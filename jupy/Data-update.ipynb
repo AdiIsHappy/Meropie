{
 "cells": [
  {
   "cell_type": "code",
   "execution_count": 1,
   "id": "27e3d0f6",
   "metadata": {},
   "outputs": [],
   "source": [
    "import pandas as pd"
   ]
  },
  {
   "cell_type": "code",
   "execution_count": 68,
   "id": "75e6b2e7",
   "metadata": {},
   "outputs": [],
   "source": [
    "df = pd.read_csv(\"/home/aditya/Desktop/morepe/delCP.csv\",usecols=[0,1], index_col=0)"
   ]
  },
  {
   "cell_type": "code",
   "execution_count": 69,
   "id": "1ae685fe",
   "metadata": {},
   "outputs": [],
   "source": [
    "df['Magnitude'] = df['Magnitude'].str.replace(\"<\", \"\")\n",
    "df['Magnitude'] = pd.to_numeric(df['Magnitude'])\n",
    "df.to_csv(\"Modified_DelCp.csv\")"
   ]
  },
  {
   "cell_type": "code",
   "execution_count": null,
   "id": "6a9eca73",
   "metadata": {},
   "outputs": [],
   "source": []
  }
 ],
 "metadata": {
  "interpreter": {
   "hash": "916dbcbb3f70747c44a77c7bcd40155683ae19c65e1c03b4aa3499c5328201f1"
  },
  "kernelspec": {
   "display_name": "Python 3.9.7 64-bit",
   "language": "python",
   "name": "python3"
  },
  "language_info": {
   "codemirror_mode": {
    "name": "ipython",
    "version": 3
   },
   "file_extension": ".py",
   "mimetype": "text/x-python",
   "name": "python",
   "nbconvert_exporter": "python",
   "pygments_lexer": "ipython3",
   "version": "3.9.7"
  }
 },
 "nbformat": 4,
 "nbformat_minor": 5
}
